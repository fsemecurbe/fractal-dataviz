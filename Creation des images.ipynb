{
 "cells": [
  {
   "cell_type": "code",
   "execution_count": 1,
   "id": "b9bd6233",
   "metadata": {},
   "outputs": [],
   "source": [
    "import numpy as np\n",
    "import matplotlib.pyplot as plt\n",
    "import matplotlib as mpl\n",
    "import jenkspy\n",
    "import pandas as pd\n",
    "import geopandas as gpd\n",
    "from shapely.geometry import Polygon"
   ]
  },
  {
   "cell_type": "code",
   "execution_count": 2,
   "id": "1bd2ea5d",
   "metadata": {},
   "outputs": [],
   "source": [
    "#!pip install jenkspy --proxy http://rie.proxy.national.agri:8080"
   ]
  },
  {
   "cell_type": "code",
   "execution_count": 2,
   "id": "4c6fc6c2",
   "metadata": {},
   "outputs": [],
   "source": [
    "def cascade(generateur, nb_iterations):\n",
    "    fractal = generateur\n",
    "    for i in range(nb_iterations):\n",
    "        fractal = np.kron(fractal, generateur)\n",
    "    return(fractal)"
   ]
  },
  {
   "cell_type": "code",
   "execution_count": 3,
   "id": "280e7266",
   "metadata": {},
   "outputs": [],
   "source": [
    "gen1 = np.array([[.5/8,.5/8,.5/8],[.5/8,.5,.5/8],[.5/8,.5/8,.5/8]])"
   ]
  },
  {
   "cell_type": "code",
   "execution_count": 4,
   "id": "a11e5815",
   "metadata": {},
   "outputs": [],
   "source": [
    "test = cascade(gen1,5)"
   ]
  },
  {
   "cell_type": "code",
   "execution_count": 5,
   "id": "94491942",
   "metadata": {},
   "outputs": [
    {
     "data": {
      "text/plain": [
       "(729, 729)"
      ]
     },
     "execution_count": 5,
     "metadata": {},
     "output_type": "execute_result"
    }
   ],
   "source": [
    "test.shape"
   ]
  },
  {
   "cell_type": "code",
   "execution_count": 13,
   "id": "ee8bffe4",
   "metadata": {},
   "outputs": [],
   "source": [
    "mpl.use('svg')  \n",
    "\n",
    "cmap = mpl.cm.RdYlGn_r\n",
    "bounds = np.quantile(test, np.arange(0,1,.005))\n",
    "bounds = jenkspy.jenks_breaks(test.flatten()[np.random.choice(test.flatten().shape[0], 1000, replace=False)], n_classes=5)\n",
    "norm = mpl.colors.BoundaryNorm(bounds, cmap.N, extend='both')\n",
    "mpl.cm.ScalarMappable(norm=norm, cmap=cmap)\n",
    "\n",
    "\n",
    "fig, ax = plt.subplots(figsize=(20,20))\n",
    "plt.subplots_adjust(bottom=0, right=1, top=1, left=0)\n",
    "\n",
    "ax.set_axis_off();\n",
    "ax.imshow(cmap(norm(test)))\n",
    "plt.savefig(\"multifractal.svg\", format='svg', dpi=300)"
   ]
  },
  {
   "cell_type": "code",
   "execution_count": 27,
   "id": "1be950fb",
   "metadata": {},
   "outputs": [
    {
     "data": {
      "text/plain": [
       "array([1.00e-07, 2.00e-07, 4.00e-07, 8.00e-07, 1.60e-06, 3.20e-06,\n",
       "       6.40e-06, 1.28e-05])"
      ]
     },
     "execution_count": 27,
     "metadata": {},
     "output_type": "execute_result"
    }
   ],
   "source": [
    "mpl.cm.RdYlGn_r"
   ]
  },
  {
   "cell_type": "code",
   "execution_count": 15,
   "id": "161b73d9",
   "metadata": {},
   "outputs": [
    {
     "data": {
      "text/plain": [
       "[1.0000000000000004e-06,\n",
       " 1.0000000000000004e-06,\n",
       " 2.0000000000000008e-06,\n",
       " 4.0000000000000015e-06,\n",
       " 8.000000000000003e-06,\n",
       " 1.6000000000000006e-05]"
      ]
     },
     "execution_count": 15,
     "metadata": {},
     "output_type": "execute_result"
    }
   ],
   "source": [
    "jenkspy.jenks_breaks(test.flatten()[np.random.choice(test.flatten().shape[0], 1000, replace=False)], n_classes=5)"
   ]
  },
  {
   "cell_type": "code",
   "execution_count": null,
   "id": "0d88ebdd",
   "metadata": {},
   "outputs": [],
   "source": []
  },
  {
   "cell_type": "code",
   "execution_count": 7,
   "id": "b014f93f",
   "metadata": {},
   "outputs": [],
   "source": [
    "x = [0,1,2]\n",
    "y = [0,1,2]\n",
    "temp = [np.tile(x, len(y))*3, np.repeat(y, len(x))*3]"
   ]
  },
  {
   "cell_type": "code",
   "execution_count": 9,
   "id": "6857d36c",
   "metadata": {},
   "outputs": [
    {
     "data": {
      "text/plain": [
       "array([0, 3, 6, 0, 3, 6, 0, 3, 6])"
      ]
     },
     "execution_count": 9,
     "metadata": {},
     "output_type": "execute_result"
    }
   ],
   "source": [
    "temp[0]"
   ]
  },
  {
   "cell_type": "code",
   "execution_count": 21,
   "id": "0155e573",
   "metadata": {},
   "outputs": [],
   "source": [
    "first_level = pd.DataFrame({'x' : temp[0], 'y' : temp[1], 'i' :  (1+np.arange(9))})\n",
    "first_level['Prob'] = 'P' + first_level.i.astype(str) "
   ]
  },
  {
   "cell_type": "code",
   "execution_count": 22,
   "id": "38c932ce",
   "metadata": {},
   "outputs": [],
   "source": [
    "size = 3\n",
    "geometry = [ Polygon ([( x , y ) ,\n",
    "                       ( x + size , y ) ,\n",
    "                       ( x + size , y + size ) ,\n",
    "                       (x , y + size ) ])\n",
    "             for x , y in zip (first_level['x'] , first_level['y']) ]\n",
    "first_level = gpd.GeoDataFrame(first_level, geometry = geometry , crs='EPSG:3035')"
   ]
  },
  {
   "cell_type": "code",
   "execution_count": 26,
   "id": "f476a6d0",
   "metadata": {},
   "outputs": [
    {
     "data": {
      "image/png": "[encoded data removed]",
      "text/plain": [
       "<Figure size 432x288 with 1 Axes>"
      ]
     },
     "metadata": {
      "needs_background": "light"
     },
     "output_type": "display_data"
    }
   ],
   "source": [
    "ax = first_level.boundary.plot()\n",
    "ax.set_axis_off()\n",
    "\n",
    "centroid = first_level.copy()\n",
    "centroid['x'] = centroid.geometry.centroid.x\n",
    "centroid['y'] = centroid.geometry.centroid.y\n",
    "\n",
    "for x, y, label in zip(centroid.x, centroid.y, centroid.Prob):\n",
    "    ax.annotate(label, xy=(x-0.5, y-0.5), xytext=(3, 3), textcoords=\"offset points\")\n",
    "plt.savefig(\"multifractal.svg\", format='svg', dpi=300)"
   ]
  },
  {
   "cell_type": "code",
   "execution_count": null,
   "id": "93477937",
   "metadata": {},
   "outputs": [],
   "source": [
    "plt.savefig(\"multifractal.svg\", format='svg', dpi=300)"
   ]
  },
  {
   "cell_type": "code",
   "execution_count": 13,
   "id": "0b6c6f04",
   "metadata": {},
   "outputs": [],
   "source": [
    "first_level['prob'] = 'P' + first_level['i'].astype(str)"
   ]
  },
  {
   "cell_type": "code",
   "execution_count": 16,
   "id": "ac4621e8",
   "metadata": {},
   "outputs": [],
   "source": [
    "first_level.to_file('first_level.geojson', driver='GeoJSON')"
   ]
  }
 ],
 "metadata": {
  "kernelspec": {
   "display_name": "Python 3 (ipykernel)",
   "language": "python",
   "name": "python3"
  },
  "language_info": {
   "codemirror_mode": {
    "name": "ipython",
    "version": 3
   },
   "file_extension": ".py",
   "mimetype": "text/x-python",
   "name": "python",
   "nbconvert_exporter": "python",
   "pygments_lexer": "ipython3",
   "version": "3.9.7"
  }
 },
 "nbformat": 4,
 "nbformat_minor": 5
}
