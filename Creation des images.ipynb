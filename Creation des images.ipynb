{
 "cells": [
  {
   "cell_type": "code",
   "execution_count": 1,
   "id": "b9bd6233",
   "metadata": {},
   "outputs": [],
   "source": [
    "import numpy as np\n",
    "import matplotlib.pyplot as plt\n",
    "import matplotlib as mpl\n",
    "import jenkspy"
   ]
  },
  {
   "cell_type": "code",
   "execution_count": 33,
   "id": "1bd2ea5d",
   "metadata": {},
   "outputs": [],
   "source": [
    "#!pip install jenkspy --proxy http://rie.proxy.national.agri:8080"
   ]
  },
  {
   "cell_type": "code",
   "execution_count": 2,
   "id": "4c6fc6c2",
   "metadata": {},
   "outputs": [],
   "source": [
    "def cascade(generateur, nb_iterations):\n",
    "    fractal = generateur\n",
    "    for i in range(nb_iterations):\n",
    "        fractal = np.kron(fractal, generateur)\n",
    "    return(fractal)"
   ]
  },
  {
   "cell_type": "code",
   "execution_count": 3,
   "id": "280e7266",
   "metadata": {},
   "outputs": [],
   "source": [
    "gen1 = np.array([[.1,.1,.1],[.1,.2,.1],[.1,.1,.1]])"
   ]
  },
  {
   "cell_type": "code",
   "execution_count": 29,
   "id": "a11e5815",
   "metadata": {},
   "outputs": [],
   "source": [
    "test = cascade(gen1,5)"
   ]
  },
  {
   "cell_type": "code",
   "execution_count": 30,
   "id": "94491942",
   "metadata": {},
   "outputs": [
    {
     "data": {
      "text/plain": [
       "(729, 729)"
      ]
     },
     "execution_count": 30,
     "metadata": {},
     "output_type": "execute_result"
    }
   ],
   "source": [
    "test.shape"
   ]
  },
  {
   "cell_type": "code",
   "execution_count": null,
   "id": "ee8bffe4",
   "metadata": {},
   "outputs": [],
   "source": [
    "mpl.use('svg')  \n",
    "\n",
    "cmap = mpl.cm.RdYlGn_r\n",
    "#bounds = np.quantile(test, np.arange(0,1,.005))\n",
    "bounds = jenkspy.jenks_breaks(test.flatten()[np.random.choice(test.flatten().shape[0], 1000, replace=False)], n_classes=5)\n",
    "norm = mpl.colors.BoundaryNorm(bounds, cmap.N, extend='both')\n",
    "mpl.cm.ScalarMappable(norm=norm, cmap=cmap)\n",
    "\n",
    "\n",
    "fig, ax = plt.subplots(figsize=(20,20))\n",
    "plt.subplots_adjust(bottom=0, right=1, top=1, left=0)\n",
    "\n",
    "ax.set_axis_off();\n",
    "ax.imshow(cmap(norm(test)))\n",
    "plt.savefig(\"multifractal.svg\", format='svg', dpi=300)"
   ]
  },
  {
   "cell_type": "code",
   "execution_count": 27,
   "id": "1be950fb",
   "metadata": {},
   "outputs": [
    {
     "data": {
      "text/plain": [
       "array([1.00e-07, 2.00e-07, 4.00e-07, 8.00e-07, 1.60e-06, 3.20e-06,\n",
       "       6.40e-06, 1.28e-05])"
      ]
     },
     "execution_count": 27,
     "metadata": {},
     "output_type": "execute_result"
    }
   ],
   "source": [
    "mpl.cm.RdYlGn_r"
   ]
  },
  {
   "cell_type": "code",
   "execution_count": 15,
   "id": "161b73d9",
   "metadata": {},
   "outputs": [
    {
     "data": {
      "text/plain": [
       "[1.0000000000000004e-06,\n",
       " 1.0000000000000004e-06,\n",
       " 2.0000000000000008e-06,\n",
       " 4.0000000000000015e-06,\n",
       " 8.000000000000003e-06,\n",
       " 1.6000000000000006e-05]"
      ]
     },
     "execution_count": 15,
     "metadata": {},
     "output_type": "execute_result"
    }
   ],
   "source": [
    "jenkspy.jenks_breaks(test.flatten()[np.random.choice(test.flatten().shape[0], 1000, replace=False)], n_classes=5)"
   ]
  }
 ],
 "metadata": {
  "kernelspec": {
   "display_name": "Python 3 (ipykernel)",
   "language": "python",
   "name": "python3"
  },
  "language_info": {
   "codemirror_mode": {
    "name": "ipython",
    "version": 3
   },
   "file_extension": ".py",
   "mimetype": "text/x-python",
   "name": "python",
   "nbconvert_exporter": "python",
   "pygments_lexer": "ipython3",
   "version": "3.9.7"
  }
 },
 "nbformat": 4,
 "nbformat_minor": 5
}
