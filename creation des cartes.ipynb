{
 "cells": [
  {
   "cell_type": "code",
   "execution_count": 24,
   "id": "30c17063",
   "metadata": {},
   "outputs": [],
   "source": [
    "import pandas as pd\n",
    "import numpy as np\n",
    "import geopandas as gpd\n",
    "from shapely.geometry import Polygon"
   ]
  },
  {
   "cell_type": "code",
   "execution_count": 4,
   "id": "bdf2a0d8",
   "metadata": {},
   "outputs": [],
   "source": [
    "carreaux = gpd.read_parquet('carreaux-200m-met-3035.parquet') "
   ]
  },
  {
   "cell_type": "code",
   "execution_count": 7,
   "id": "9ece0473",
   "metadata": {},
   "outputs": [],
   "source": [
    "carreaux['x'] = carreaux.geometry.centroid.x - 100\n",
    "carreaux['y'] = carreaux.geometry.centroid.y - 100"
   ]
  },
  {
   "cell_type": "code",
   "execution_count": 81,
   "id": "20f90112",
   "metadata": {},
   "outputs": [],
   "source": [
    "size = 20000\n",
    "carreaux['x_'+str(size)] = np.floor(carreaux.x / size) * size\n",
    "carreaux['y_'+str(size)] = np.floor(carreaux.y / size) * size\n",
    "\n",
    "temp = carreaux.groupby(['x_'+str(size), 'y_'+str(size)], as_index=False)['ind'].sum()\n",
    "temp['density'] = temp.ind / (size/1000)**2\n",
    "\n",
    "geometry = [ Polygon ([( x , y ) ,\n",
    "                       ( x + size , y ) ,\n",
    "                       ( x + size , y + size ) ,\n",
    "                       (x , y + size ) ])\n",
    "             for x , y in zip (temp['x_'+str(size)] , temp['y_'+str(size)]) ]\n",
    "stemp = gpd.GeoDataFrame(temp, geometry = geometry , crs='EPSG:3035')\n",
    "\n",
    "stemp.to_file('carreaux_'+str(size)+'.geojson', driver='GeoJSON')\n"
   ]
  },
  {
   "cell_type": "markdown",
   "id": "a810af3d",
   "metadata": {},
   "source": [
    "#### zoom sur Paris"
   ]
  },
  {
   "cell_type": "code",
   "execution_count": 82,
   "id": "38e535b9",
   "metadata": {},
   "outputs": [],
   "source": [
    "paris_x = 3760524.400341 \n",
    "paris_y = 2889128.935875"
   ]
  },
  {
   "cell_type": "code",
   "execution_count": 83,
   "id": "a9ea1d57",
   "metadata": {},
   "outputs": [],
   "source": [
    "size = 5000\n",
    "\n",
    "\n",
    "carreaux['x_'+str(size)] = np.floor(carreaux.x / size) * size\n",
    "carreaux['y_'+str(size)] = np.floor(carreaux.y / size) * size\n",
    "\n",
    "temp  = carreaux[(np.abs(carreaux.x - paris_x)<100000)&(np.abs(carreaux.y - paris_y)<100000)]\n",
    "\n",
    "temp = temp.groupby(['x_'+str(size), 'y_'+str(size)], as_index=False)['ind'].sum()\n",
    "temp['density'] = temp.ind / (size/1000)**2\n",
    "\n",
    "geometry = [ Polygon ([( x , y ) ,\n",
    "                       ( x + size , y ) ,\n",
    "                       ( x + size , y + size ) ,\n",
    "                       (x , y + size ) ])\n",
    "             for x , y in zip (temp['x_'+str(size)] , temp['y_'+str(size)]) ]\n",
    "stemp = gpd.GeoDataFrame(temp, geometry = geometry , crs='EPSG:3035')\n",
    "\n",
    "stemp.to_file('carreaux_'+str(size)+'.geojson', driver='GeoJSON')"
   ]
  },
  {
   "cell_type": "code",
   "execution_count": 84,
   "id": "d46a5c7b",
   "metadata": {},
   "outputs": [],
   "source": [
    "size = 1000\n",
    "\n",
    "\n",
    "\n",
    "carreaux['x_'+str(size)] = np.floor(carreaux.x / size) * size\n",
    "carreaux['y_'+str(size)] = np.floor(carreaux.y / size) * size\n",
    "\n",
    "temp  = carreaux[(np.abs(carreaux.x - paris_x)<20000)&(np.abs(carreaux.y - paris_y)<20000)]\n",
    "\n",
    "temp = temp.groupby(['x_'+str(size), 'y_'+str(size)], as_index=False)['ind'].sum()\n",
    "temp['density'] = temp.ind / (size/1000)**2\n",
    "\n",
    "geometry = [ Polygon ([( x , y ) ,\n",
    "                       ( x + size , y ) ,\n",
    "                       ( x + size , y + size ) ,\n",
    "                       (x , y + size ) ])\n",
    "             for x , y in zip (temp['x_'+str(size)] , temp['y_'+str(size)]) ]\n",
    "stemp = gpd.GeoDataFrame(temp, geometry = geometry , crs='EPSG:3035')\n",
    "\n",
    "stemp.to_file('carreaux_'+str(size)+'.geojson', driver='GeoJSON')"
   ]
  },
  {
   "cell_type": "code",
   "execution_count": 85,
   "id": "e73a6979",
   "metadata": {},
   "outputs": [],
   "source": [
    "size = 200\n",
    "\n",
    "\n",
    "\n",
    "carreaux['x_'+str(size)] = np.floor(carreaux.x / size) * size\n",
    "carreaux['y_'+str(size)] = np.floor(carreaux.y / size) * size\n",
    "\n",
    "temp  = carreaux[(np.abs(carreaux.x - paris_x)<4000)&(np.abs(carreaux.y - paris_y)<4000)]\n",
    "\n",
    "temp = temp.groupby(['x_'+str(size), 'y_'+str(size)], as_index=False)['ind'].sum()\n",
    "temp['density'] = temp.ind / (size/1000)**2\n",
    "\n",
    "geometry = [ Polygon ([( x , y ) ,\n",
    "                       ( x + size , y ) ,\n",
    "                       ( x + size , y + size ) ,\n",
    "                       (x , y + size ) ])\n",
    "             for x , y in zip (temp['x_'+str(size)] , temp['y_'+str(size)]) ]\n",
    "stemp = gpd.GeoDataFrame(temp, geometry = geometry , crs='EPSG:3035')\n",
    "stemp.to_file('carreaux_'+str(size)+'.geojson', driver='GeoJSON')"
   ]
  },
  {
   "cell_type": "code",
   "execution_count": 75,
   "id": "288ac449",
   "metadata": {},
   "outputs": [
    {
     "data": {
      "text/plain": [
       "<AxesSubplot:>"
      ]
     },
     "execution_count": 75,
     "metadata": {},
     "output_type": "execute_result"
    },
    {
     "data": {
      "image/png": "[encoded data removed]",
      "text/plain": [
       "<Figure size 432x288 with 1 Axes>"
      ]
     },
     "metadata": {
      "needs_background": "light"
     },
     "output_type": "display_data"
    }
   ],
   "source": [
    "stemp.plot('ind')"
   ]
  }
 ],
 "metadata": {
  "kernelspec": {
   "display_name": "Python 3 (ipykernel)",
   "language": "python",
   "name": "python3"
  },
  "language_info": {
   "codemirror_mode": {
    "name": "ipython",
    "version": 3
   },
   "file_extension": ".py",
   "mimetype": "text/x-python",
   "name": "python",
   "nbconvert_exporter": "python",
   "pygments_lexer": "ipython3",
   "version": "3.9.7"
  }
 },
 "nbformat": 4,
 "nbformat_minor": 5
}
